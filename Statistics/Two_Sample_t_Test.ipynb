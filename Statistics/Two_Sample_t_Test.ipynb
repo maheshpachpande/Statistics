{
  "nbformat": 4,
  "nbformat_minor": 0,
  "metadata": {
    "colab": {
      "provenance": []
    },
    "kernelspec": {
      "name": "python3",
      "display_name": "Python 3"
    },
    "language_info": {
      "name": "python"
    }
  },
  "cells": [
    {
      "cell_type": "code",
      "source": [
        "from scipy.stats import t\n",
        "# set t_value and degree of freedom\n",
        "t_value = -5.25\n",
        "df = 58  # (30+30-2)\n",
        "# calculate cdf value\n",
        "cdf_value = t.cdf(t_value, df)\n",
        "print(cdf_value)"
      ],
      "metadata": {
        "colab": {
          "base_uri": "https://localhost:8080/"
        },
        "id": "DohnhaoH2-Iv",
        "outputId": "fcbd3676-fc29-4ad3-b772-2035af4a2f6c"
      },
      "execution_count": 10,
      "outputs": [
        {
          "output_type": "stream",
          "name": "stdout",
          "text": [
            "1.128184873466612e-06\n"
          ]
        }
      ]
    },
    {
      "cell_type": "code",
      "execution_count": 6,
      "metadata": {
        "id": "uHvQjIn4vzUI"
      },
      "outputs": [],
      "source": [
        "# Shapiro-Wilk test return two values : the test statistic (w) and the p_value\n",
        "# if the p_value is greater than your chosen significance level (alpha = 0.05)\n",
        "# you can asume the data comes from normally distributed population\n",
        "# if the p_value is less than or equal to significance level , the normality asumption is not met,\n",
        "# and you should consider applying a data transformation or using a non-parametric test like the Mann-Whitney u test\n",
        "\n",
        "\n",
        "from scipy.stats import shapiro\n",
        "\n",
        "# input the data as list\n",
        "desktop_users = [12,15,18,16,20,17,14,22,19,21,23,18,25,17,16,24,20,19,22,18,15,14,23,16,12,21,19,17,20,14]\n",
        "mobile_users = [10,12,14,13,16,15,11,17,14,16,18,14,20,15,14,19,16,15,17,14,12,11,18,15,10,16,15,13,16,11]"
      ]
    },
    {
      "cell_type": "code",
      "source": [
        "# Perform the shapiro-Wilk test for both desktop and mobile users\n",
        "shapiro_desktop = shapiro(desktop_users)\n",
        "shapiro_mobile = shapiro(mobile_users)\n",
        "\n",
        "print('Shapiro-Wilk test for desktop users : ',shapiro_desktop)\n",
        "print('Shapiro-Wilk test for mobile users : ',shapiro_mobile)"
      ],
      "metadata": {
        "colab": {
          "base_uri": "https://localhost:8080/"
        },
        "id": "qcPE7_rV3GrF",
        "outputId": "d8e5fa75-6459-4f17-dc96-cc13cd0689f1"
      },
      "execution_count": 8,
      "outputs": [
        {
          "output_type": "stream",
          "name": "stdout",
          "text": [
            "Shapiro-Wilk test for desktop users :  ShapiroResult(statistic=0.9783114194869995, pvalue=0.7790969014167786)\n",
            "Shapiro-Wilk test for mobile users :  ShapiroResult(statistic=0.9714356064796448, pvalue=0.5791608691215515)\n"
          ]
        }
      ]
    },
    {
      "cell_type": "code",
      "source": [
        "# if the p-value from Levene test is greater than your chosen significance level (alpha=0.05), you can assume eqal variances\n",
        "# if the p_value is less than to significance level, the assumpyion of equal variance is not met,\n",
        "# and you should consider welch`s t-test instead of regular independence two sample t-test\n",
        "\n",
        "from scipy.stats import levene\n",
        "\n",
        "levene_test = levene(desktop_users, mobile_users)\n",
        "print(levene_test)\n"
      ],
      "metadata": {
        "colab": {
          "base_uri": "https://localhost:8080/"
        },
        "id": "A6re_Fvg38Tf",
        "outputId": "966cf26e-49f9-4759-c227-0803677714cf"
      },
      "execution_count": 9,
      "outputs": [
        {
          "output_type": "stream",
          "name": "stdout",
          "text": [
            "LeveneResult(statistic=2.94395488191752, pvalue=0.09153720526741761)\n"
          ]
        }
      ]
    },
    {
      "cell_type": "markdown",
      "source": [
        "## Independent Two Sample test on titanic dataset"
      ],
      "metadata": {
        "id": "FLfbM2NW-Bwb"
      }
    },
    {
      "cell_type": "code",
      "source": [
        "import numpy as np\n",
        "import pandas as pd"
      ],
      "metadata": {
        "id": "eUn5Rss0-NvJ"
      },
      "execution_count": 11,
      "outputs": []
    },
    {
      "cell_type": "code",
      "source": [
        "train = pd.read_csv('/content/train.csv')\n",
        "test = pd.read_csv('/content/test.csv')\n",
        "df = pd.concat([train.drop(columns=['Survived']),test]).sample(1309)"
      ],
      "metadata": {
        "id": "yt0wQA9u-brv"
      },
      "execution_count": 13,
      "outputs": []
    },
    {
      "cell_type": "code",
      "source": [
        "# Null Hypothesis(Ho) : avg age of male = avg of female\n",
        "# Alternate Hypothesis(H1) : avg age of male > avg of female"
      ],
      "metadata": {
        "id": "inaf5uA_-_GV"
      },
      "execution_count": 19,
      "outputs": []
    },
    {
      "cell_type": "code",
      "source": [
        "population_male = df[df['Sex'] == 'male']['Age'].dropna()\n",
        "population_female = df[df['Sex'] == 'female']['Age'].dropna()"
      ],
      "metadata": {
        "id": "Rcm3OikcAPWq"
      },
      "execution_count": 15,
      "outputs": []
    },
    {
      "cell_type": "code",
      "source": [
        "population_male"
      ],
      "metadata": {
        "colab": {
          "base_uri": "https://localhost:8080/"
        },
        "id": "Q5TCrLMpBEzM",
        "outputId": "e9493dda-9934-4315-97fb-5f5d8e8e775f"
      },
      "execution_count": 17,
      "outputs": [
        {
          "output_type": "execute_result",
          "data": {
            "text/plain": [
              "28     41.0\n",
              "471    38.0\n",
              "344    36.0\n",
              "213    30.0\n",
              "379     5.0\n",
              "       ... \n",
              "406    51.0\n",
              "698    49.0\n",
              "131    53.0\n",
              "283    19.0\n",
              "116    70.5\n",
              "Name: Age, Length: 658, dtype: float64"
            ]
          },
          "metadata": {},
          "execution_count": 17
        }
      ]
    },
    {
      "cell_type": "code",
      "source": [
        "population_female"
      ],
      "metadata": {
        "colab": {
          "base_uri": "https://localhost:8080/"
        },
        "id": "hM4JWcwxBFOZ",
        "outputId": "21b89392-b5e7-4bb4-fa8d-52cb0241fa27"
      },
      "execution_count": 18,
      "outputs": [
        {
          "output_type": "execute_result",
          "data": {
            "text/plain": [
              "324    39.0\n",
              "38     18.0\n",
              "233     5.0\n",
              "224    53.0\n",
              "25     38.0\n",
              "       ... \n",
              "100    43.0\n",
              "567    29.0\n",
              "371    31.0\n",
              "448     5.0\n",
              "175    15.0\n",
              "Name: Age, Length: 388, dtype: float64"
            ]
          },
          "metadata": {},
          "execution_count": 18
        }
      ]
    },
    {
      "cell_type": "code",
      "source": [
        "sample_male = population_male.sample(25)\n",
        "sample_female = population_female.sample(25)\n",
        "alpha=0.05"
      ],
      "metadata": {
        "id": "15wNkw-3Apra"
      },
      "execution_count": 16,
      "outputs": []
    },
    {
      "cell_type": "code",
      "source": [
        "from scipy.stats import shapiro\n",
        "# Perform shapiro-wilk test on both male and female\n",
        "shapiro_male = shapiro(sample_male)\n",
        "shapiro_female = shapiro(sample_female)\n",
        "print('shapiro male : ',shapiro_male)\n",
        "print('shapiro female : ',shapiro_female)"
      ],
      "metadata": {
        "colab": {
          "base_uri": "https://localhost:8080/"
        },
        "id": "cyFy2czyA5IN",
        "outputId": "ac6f8b92-7489-419d-e9ca-1b377bb1f806"
      },
      "execution_count": 20,
      "outputs": [
        {
          "output_type": "stream",
          "name": "stdout",
          "text": [
            "shapiro male :  ShapiroResult(statistic=0.964169442653656, pvalue=0.5035818815231323)\n",
            "shapiro female :  ShapiroResult(statistic=0.9498151540756226, pvalue=0.24833133816719055)\n"
          ]
        }
      ]
    },
    {
      "cell_type": "code",
      "source": [
        "from scipy.stats import levene\n",
        "# Perform Levene test\n",
        "levene_test = levene(sample_male, sample_female)\n",
        "print(levene_test)"
      ],
      "metadata": {
        "colab": {
          "base_uri": "https://localhost:8080/"
        },
        "id": "GVeoY-GSCHzM",
        "outputId": "19740d2f-2c6f-4a56-cb5a-bd79c566b0b3"
      },
      "execution_count": 21,
      "outputs": [
        {
          "output_type": "stream",
          "name": "stdout",
          "text": [
            "LeveneResult(statistic=0.0778294238766021, pvalue=0.7814592277595136)\n"
          ]
        }
      ]
    },
    {
      "cell_type": "code",
      "source": [
        "import scipy.stats as stats\n",
        "t_statistics, p_value = stats.ttest_ind(sample_male,sample_female)\n",
        "print('t-stat :',t_statistics)\n",
        "print('p_values : ',p_value/2)  # p_value dividing by 2 becoz getting two tailed test"
      ],
      "metadata": {
        "colab": {
          "base_uri": "https://localhost:8080/"
        },
        "id": "g_fHBmZNCdCD",
        "outputId": "396f218b-9ed6-4370-efe1-f91d1c0a368f"
      },
      "execution_count": 23,
      "outputs": [
        {
          "output_type": "stream",
          "name": "stdout",
          "text": [
            "t-stat : 1.9771979616070152\n",
            "p_values :  0.026888989629611625\n"
          ]
        }
      ]
    },
    {
      "cell_type": "code",
      "source": [
        "alpha = 0.05\n",
        "if p_value < alpha:\n",
        "  print('Reject the Null Hypothesis')\n",
        "else:\n",
        "  print('Accept the Null Hypothesis')\n"
      ],
      "metadata": {
        "colab": {
          "base_uri": "https://localhost:8080/"
        },
        "id": "qd-mLF7TDD5u",
        "outputId": "820876de-a9c0-4b5f-9869-3ba11f9ea4c6"
      },
      "execution_count": 24,
      "outputs": [
        {
          "output_type": "stream",
          "name": "stdout",
          "text": [
            "Accept the Null Hypothesis\n"
          ]
        }
      ]
    },
    {
      "cell_type": "code",
      "source": [],
      "metadata": {
        "id": "ws1zQTfGDpKR"
      },
      "execution_count": null,
      "outputs": []
    }
  ]
}