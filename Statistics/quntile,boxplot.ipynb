{
  "nbformat": 4,
  "nbformat_minor": 0,
  "metadata": {
    "colab": {
      "provenance": []
    },
    "kernelspec": {
      "name": "python3",
      "display_name": "Python 3"
    },
    "language_info": {
      "name": "python"
    }
  },
  "cells": [
    {
      "cell_type": "code",
      "execution_count": 72,
      "metadata": {
        "id": "NKA2s3c3aMQ7"
      },
      "outputs": [],
      "source": [
        "import numpy as np\n",
        "import statistics as st\n",
        "import scipy.stats as stats\n",
        "import matplotlib.pyplot as plt"
      ]
    },
    {
      "cell_type": "code",
      "source": [
        "data=[78,82,84,88,91,93,94,96,98,99]\n",
        "data"
      ],
      "metadata": {
        "colab": {
          "base_uri": "https://localhost:8080/"
        },
        "id": "wbiaRymGaxHh",
        "outputId": "7767c6f0-e45f-4a8e-d284-78360e70f0d2"
      },
      "execution_count": 30,
      "outputs": [
        {
          "output_type": "execute_result",
          "data": {
            "text/plain": [
              "[78, 82, 84, 88, 91, 93, 94, 96, 98, 99]"
            ]
          },
          "metadata": {},
          "execution_count": 30
        }
      ]
    },
    {
      "cell_type": "code",
      "source": [
        "# The quartiles (Q0,Q1,Q2,Q3,Q4) are the values that separate each quarter.\n",
        "# Q0 is the smallest value in the data.\n",
        "# Q1 is the value separating the first quarter from the second quarter of the data.\n",
        "# Q2 is the middle value (median), separating the bottom from the top half.\n",
        "# Q3 is the value separating the third quarter from the fourth quarter\n",
        "# Q4 is the largest value in the data."
      ],
      "metadata": {
        "id": "2Or_u6Dbg9Jz"
      },
      "execution_count": 15,
      "outputs": []
    },
    {
      "cell_type": "code",
      "source": [
        "np.quantile(data,0)"
      ],
      "metadata": {
        "colab": {
          "base_uri": "https://localhost:8080/"
        },
        "id": "SpVfT00rk0ZE",
        "outputId": "5ab229c9-3725-4b76-d68e-2fd3236a553b"
      },
      "execution_count": 20,
      "outputs": [
        {
          "output_type": "execute_result",
          "data": {
            "text/plain": [
              "78"
            ]
          },
          "metadata": {},
          "execution_count": 20
        }
      ]
    },
    {
      "cell_type": "code",
      "source": [
        "# value of first quartile for given data\n",
        "data_25 = np.quantile(data,0.25)\n",
        "data_25"
      ],
      "metadata": {
        "colab": {
          "base_uri": "https://localhost:8080/"
        },
        "id": "KIHnYRmSaytx",
        "outputId": "aa7a108d-2a55-4bd8-c70b-e7530d90be3c"
      },
      "execution_count": 19,
      "outputs": [
        {
          "output_type": "execute_result",
          "data": {
            "text/plain": [
              "78"
            ]
          },
          "metadata": {},
          "execution_count": 19
        }
      ]
    },
    {
      "cell_type": "code",
      "source": [
        "# value of second quartile for given data\n",
        "data_50 = np.quantile(data,0.5)\n",
        "data_50"
      ],
      "metadata": {
        "colab": {
          "base_uri": "https://localhost:8080/"
        },
        "id": "NcT8U5P8a47J",
        "outputId": "5d25b95e-1387-4e45-f555-95f07c24876c"
      },
      "execution_count": 7,
      "outputs": [
        {
          "output_type": "execute_result",
          "data": {
            "text/plain": [
              "92.0"
            ]
          },
          "metadata": {},
          "execution_count": 7
        }
      ]
    },
    {
      "cell_type": "code",
      "source": [
        "# value of third quartile for given data\n",
        "data_75 = np.quantile(data,0.75)\n",
        "data_75"
      ],
      "metadata": {
        "colab": {
          "base_uri": "https://localhost:8080/"
        },
        "id": "ezJaSAj0bsFf",
        "outputId": "c75b4ef5-a5dd-4481-d830-ef48b66094b2"
      },
      "execution_count": 8,
      "outputs": [
        {
          "output_type": "execute_result",
          "data": {
            "text/plain": [
              "95.5"
            ]
          },
          "metadata": {},
          "execution_count": 8
        }
      ]
    },
    {
      "cell_type": "code",
      "source": [
        "np.quantile(data,[0,0.25,0.5,0.75,1])"
      ],
      "metadata": {
        "colab": {
          "base_uri": "https://localhost:8080/"
        },
        "id": "aEtUKRoYhZIz",
        "outputId": "0be69c7f-ed55-44f8-8a04-73678ea6acd9"
      },
      "execution_count": 17,
      "outputs": [
        {
          "output_type": "execute_result",
          "data": {
            "text/plain": [
              "array([78. , 85. , 92. , 95.5, 99. ])"
            ]
          },
          "metadata": {},
          "execution_count": 17
        }
      ]
    },
    {
      "cell_type": "code",
      "source": [
        "# Percentiles are values that separate the data into 100 equal parts.\n",
        "\n",
        "# For example, The 95th percentile separates the lowest 95% of the values from the top 5%\n",
        "\n",
        "# The 25th percentile (25%) is the same as the first quartile (Q1).\n",
        "\n",
        "# The 50th percentile (50%) is the same as the second quartile (Q2) and the median.\n",
        "\n",
        "# The 75th percentile (75%) is the same as the third quartile (Q3)"
      ],
      "metadata": {
        "id": "pP2u-IW2cX13"
      },
      "execution_count": 16,
      "outputs": []
    },
    {
      "cell_type": "code",
      "source": [
        "np.percentile(data,[0,25,50,75,100])"
      ],
      "metadata": {
        "colab": {
          "base_uri": "https://localhost:8080/"
        },
        "id": "p1lbR4B7f7bC",
        "outputId": "a7440a05-d771-4857-ab15-08245109fc06"
      },
      "execution_count": 45,
      "outputs": [
        {
          "output_type": "execute_result",
          "data": {
            "text/plain": [
              "array([78. , 85. , 92. , 95.5, 99. ])"
            ]
          },
          "metadata": {},
          "execution_count": 45
        }
      ]
    },
    {
      "cell_type": "code",
      "source": [
        "# Calculate the score at a given percentile of the input sequence.\n",
        "stats.scoreatpercentile(data,33.34)"
      ],
      "metadata": {
        "colab": {
          "base_uri": "https://localhost:8080/"
        },
        "id": "pWyms9GFmvjl",
        "outputId": "58c387b9-ac0f-47d3-aef9-059729e14256"
      },
      "execution_count": 67,
      "outputs": [
        {
          "output_type": "execute_result",
          "data": {
            "text/plain": [
              "88.0018"
            ]
          },
          "metadata": {},
          "execution_count": 67
        }
      ]
    },
    {
      "cell_type": "code",
      "source": [
        "# Compute the percentile rank of a score relative to a list of scores.\n",
        "stats.percentileofscore(data,78)"
      ],
      "metadata": {
        "colab": {
          "base_uri": "https://localhost:8080/"
        },
        "id": "LjV_gEXypblF",
        "outputId": "07a605c9-2b9f-4933-9d1e-ed961b4b0ec4"
      },
      "execution_count": 68,
      "outputs": [
        {
          "output_type": "execute_result",
          "data": {
            "text/plain": [
              "10.0"
            ]
          },
          "metadata": {},
          "execution_count": 68
        }
      ]
    },
    {
      "cell_type": "code",
      "source": [
        "stats.percentileofscore(data,91)"
      ],
      "metadata": {
        "colab": {
          "base_uri": "https://localhost:8080/"
        },
        "id": "V0PHuTLYsSNx",
        "outputId": "d701f15d-d72a-4cc9-b2d3-664ea1f07957"
      },
      "execution_count": 69,
      "outputs": [
        {
          "output_type": "execute_result",
          "data": {
            "text/plain": [
              "50.0"
            ]
          },
          "metadata": {},
          "execution_count": 69
        }
      ]
    },
    {
      "cell_type": "code",
      "source": [
        "data.append(130)"
      ],
      "metadata": {
        "id": "4guqxSr4sYlZ"
      },
      "execution_count": 104,
      "outputs": []
    },
    {
      "cell_type": "code",
      "source": [
        "# Boxplot\n",
        "plt.boxplot(data,showmeans=True,sym='r+',meanline=True,vert=False)"
      ],
      "metadata": {
        "colab": {
          "base_uri": "https://localhost:8080/",
          "height": 569
        },
        "id": "aoqsopMps9lb",
        "outputId": "acd3c8b8-f13e-47a9-be2d-1352a7c70ad1"
      },
      "execution_count": 106,
      "outputs": [
        {
          "output_type": "execute_result",
          "data": {
            "text/plain": [
              "{'whiskers': [<matplotlib.lines.Line2D at 0x7c78c5729e70>,\n",
              "  <matplotlib.lines.Line2D at 0x7c78c572a110>],\n",
              " 'caps': [<matplotlib.lines.Line2D at 0x7c78c572a3b0>,\n",
              "  <matplotlib.lines.Line2D at 0x7c78c572a650>],\n",
              " 'boxes': [<matplotlib.lines.Line2D at 0x7c78c5729bd0>],\n",
              " 'medians': [<matplotlib.lines.Line2D at 0x7c78c572a8f0>],\n",
              " 'fliers': [<matplotlib.lines.Line2D at 0x7c78c572ae30>],\n",
              " 'means': [<matplotlib.lines.Line2D at 0x7c78c572ab90>]}"
            ]
          },
          "metadata": {},
          "execution_count": 106
        },
        {
          "output_type": "display_data",
          "data": {
            "text/plain": [
              "<Figure size 640x480 with 1 Axes>"
            ],
            "image/png": "[encoded data removed]"
          },
          "metadata": {}
        }
      ]
    },
    {
      "cell_type": "code",
      "source": [],
      "metadata": {
        "id": "85BTqrJbtO-r"
      },
      "execution_count": null,
      "outputs": []
    }
  ]
}