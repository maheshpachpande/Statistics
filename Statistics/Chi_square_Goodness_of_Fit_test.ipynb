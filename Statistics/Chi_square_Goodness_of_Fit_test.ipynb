{
  "nbformat": 4,
  "nbformat_minor": 0,
  "metadata": {
    "colab": {
      "provenance": []
    },
    "kernelspec": {
      "name": "python3",
      "display_name": "Python 3"
    },
    "language_info": {
      "name": "python"
    }
  },
  "cells": [
    {
      "cell_type": "markdown",
      "source": [
        "# Chi-square-Goodness-of-Fit-test\n",
        "## Uniform Distribution"
      ],
      "metadata": {
        "id": "fzsCQPK5-IKz"
      }
    },
    {
      "cell_type": "code",
      "source": [
        "import scipy.stats as st\n",
        "# Chi-Square test statistics from given example\n",
        "chi_square_statistics = 1\n",
        "\n",
        "degree_of_freedom = 5\n",
        "\n",
        "# Calculate p_value using The Chi2 survival-function(sf)\n",
        "p_value = st.chi2.sf(chi_square_statistics,degree_of_freedom)\n",
        "print('p_value = ',p_value)\n",
        "print('='*35)\n",
        "\n",
        "alpha = 0.05\n",
        "if p_value < alpha:\n",
        "  print('Reject the Null Hypothesis')\n",
        "else:\n",
        "  print('Accept the Null Hypothesis')\n",
        "print('='*35)"
      ],
      "metadata": {
        "colab": {
          "base_uri": "https://localhost:8080/"
        },
        "id": "7zavWFajuVXL",
        "outputId": "eb5ef994-4e9e-4d05-b027-322fb7d3c5a8"
      },
      "execution_count": null,
      "outputs": [
        {
          "output_type": "stream",
          "name": "stdout",
          "text": [
            "p_value =  0.9625657732472964\n",
            "===================================\n",
            "Accept the Null Hypothesis\n",
            "===================================\n"
          ]
        }
      ]
    },
    {
      "cell_type": "code",
      "source": [],
      "metadata": {
        "id": "utmsgeo1zMcN",
        "colab": {
          "base_uri": "https://localhost:8080/"
        },
        "outputId": "e6d741dc-3d3c-46ed-dff2-c6bc706c1b32"
      },
      "execution_count": null,
      "outputs": [
        {
          "output_type": "stream",
          "name": "stdout",
          "text": [
            "Accept the Null Hypothesis\n"
          ]
        }
      ]
    },
    {
      "cell_type": "code",
      "source": [],
      "metadata": {
        "id": "XEyeSOry7aJm"
      },
      "execution_count": null,
      "outputs": []
    }
  ]
}