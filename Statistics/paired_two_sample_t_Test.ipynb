{
  "nbformat": 4,
  "nbformat_minor": 0,
  "metadata": {
    "colab": {
      "provenance": []
    },
    "kernelspec": {
      "name": "python3",
      "display_name": "Python 3"
    },
    "language_info": {
      "name": "python"
    }
  },
  "cells": [
    {
      "cell_type": "code",
      "execution_count": 15,
      "metadata": {
        "id": "qbXDQV5KLBKH"
      },
      "outputs": [],
      "source": [
        "import numpy as np\n",
        "import matplotlib.pyplot as plt\n",
        "import scipy.stats as stats"
      ]
    },
    {
      "cell_type": "code",
      "source": [
        "before = np.array([80,92,75,68,85,78,73,90,70,88,76,84,82,77,91])\n",
        "after = ([78,93,81,67,88,76,74,92,69,88,77,81,80,79,88])"
      ],
      "metadata": {
        "id": "YwE8Ln5fL4Aw"
      },
      "execution_count": 16,
      "outputs": []
    },
    {
      "cell_type": "code",
      "source": [
        "difference = after - before"
      ],
      "metadata": {
        "id": "6CpxiuVSMS0y"
      },
      "execution_count": 17,
      "outputs": []
    },
    {
      "cell_type": "code",
      "source": [
        "plt.hist(difference)\n",
        "plt.title('Histogram of Weight difference')\n",
        "plt.xlabel('Weight Difference (Kg.)')\n",
        "plt.ylabel('Frequency')\n",
        "plt.show()"
      ],
      "metadata": {
        "colab": {
          "base_uri": "https://localhost:8080/",
          "height": 472
        },
        "id": "Eb7i6CBOMUwu",
        "outputId": "78c3a8e6-72ce-4009-bcde-15ffdf38f9f3"
      },
      "execution_count": 18,
      "outputs": [
        {
          "output_type": "display_data",
          "data": {
            "text/plain": [
              "<Figure size 640x480 with 1 Axes>"
            ],
            "image/png": "[encoded data removed]"
          },
          "metadata": {}
        }
      ]
    },
    {
      "cell_type": "code",
      "source": [
        "shapiro_test = stats.shapiro(difference)\n",
        "print('Shapiro-wilk : ',shapiro_test)"
      ],
      "metadata": {
        "colab": {
          "base_uri": "https://localhost:8080/"
        },
        "id": "T2PuMrV6MzsU",
        "outputId": "a05c625a-99ce-45f0-d5f1-77f31ac6ccf5"
      },
      "execution_count": 19,
      "outputs": [
        {
          "output_type": "stream",
          "name": "stdout",
          "text": [
            "Shapiro-wilk :  ShapiroResult(statistic=0.9309296607971191, pvalue=0.28173553943634033)\n"
          ]
        }
      ]
    },
    {
      "cell_type": "code",
      "source": [
        "mean_diff = np.mean(difference)\n",
        "std_diff = np.std(difference,ddof=1)\n",
        "n = len(difference)\n",
        "t_statistics = mean_diff/(std_diff/np.sqrt(n))\n",
        "df = n - 1"
      ],
      "metadata": {
        "id": "HFBIfMCbNJNn"
      },
      "execution_count": 20,
      "outputs": []
    },
    {
      "cell_type": "code",
      "source": [
        "t_statistics"
      ],
      "metadata": {
        "colab": {
          "base_uri": "https://localhost:8080/"
        },
        "id": "mxIVlMqCN_lK",
        "outputId": "13315d78-8eff-4e8c-827e-68b1ca3d963d"
      },
      "execution_count": 21,
      "outputs": [
        {
          "output_type": "execute_result",
          "data": {
            "text/plain": [
              "0.2062842492517587"
            ]
          },
          "metadata": {},
          "execution_count": 21
        }
      ]
    },
    {
      "cell_type": "code",
      "source": [
        "alpha = 0.05\n",
        "p_value = stats.t.cdf(t_statistics,df)\n",
        "print(p_value)"
      ],
      "metadata": {
        "colab": {
          "base_uri": "https://localhost:8080/"
        },
        "id": "JHejNepfOEYO",
        "outputId": "e4d6a44d-e1d2-4e51-9c9b-3a093777b398"
      },
      "execution_count": 22,
      "outputs": [
        {
          "output_type": "stream",
          "name": "stdout",
          "text": [
            "0.5802306509640294\n"
          ]
        }
      ]
    },
    {
      "cell_type": "code",
      "source": [
        "if p_value < alpha:\n",
        "  print('Reject the Null Hypothesis')\n",
        "else:\n",
        "  print('Accept the Null Hypothes')"
      ],
      "metadata": {
        "colab": {
          "base_uri": "https://localhost:8080/"
        },
        "id": "HIrdtAfUOcVX",
        "outputId": "e7745100-278c-47b7-e61e-b082d2cc4fb5"
      },
      "execution_count": 23,
      "outputs": [
        {
          "output_type": "stream",
          "name": "stdout",
          "text": [
            "Accept the Null Hypothes\n"
          ]
        }
      ]
    },
    {
      "cell_type": "code",
      "source": [],
      "metadata": {
        "id": "GFkmmMx2PdDk"
      },
      "execution_count": null,
      "outputs": []
    }
  ]
}