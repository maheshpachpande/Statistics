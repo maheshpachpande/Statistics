{
  "nbformat": 4,
  "nbformat_minor": 0,
  "metadata": {
    "colab": {
      "provenance": []
    },
    "kernelspec": {
      "name": "python3",
      "display_name": "Python 3"
    },
    "language_info": {
      "name": "python"
    }
  },
  "cells": [
    {
      "cell_type": "code",
      "execution_count": 1,
      "metadata": {
        "colab": {
          "base_uri": "https://localhost:8080/"
        },
        "id": "iVH4YY7TakDl",
        "outputId": "ed0c2894-e979-44db-ed90-347208b1873a"
      },
      "outputs": [
        {
          "output_type": "stream",
          "name": "stdout",
          "text": [
            "0.1116757390828102\n"
          ]
        }
      ],
      "source": [
        "from scipy.stats import t\n",
        "# set t_value and degree of freedom\n",
        "t_value = -1.25\n",
        "df = 24\n",
        "# calculate cdf value\n",
        "cdf_value = t.cdf(t_value, df)\n",
        "print(cdf_value)"
      ]
    },
    {
      "cell_type": "markdown",
      "source": [
        "## Single sample t-Test on titanic dataset"
      ],
      "metadata": {
        "id": "8LlRPEiMjdhE"
      }
    },
    {
      "cell_type": "code",
      "source": [
        "import numpy as np\n",
        "import pandas as pd"
      ],
      "metadata": {
        "id": "d4K7IMa7bNQ1"
      },
      "execution_count": 2,
      "outputs": []
    },
    {
      "cell_type": "code",
      "source": [
        "train = pd.read_csv('/content/train.csv')\n",
        "test = pd.read_csv('/content/test.csv')\n",
        "df = pd.concat([train.drop(columns=['Survived']),test]).sample(1309)"
      ],
      "metadata": {
        "id": "6qFh4V0Hehcf"
      },
      "execution_count": 3,
      "outputs": []
    },
    {
      "cell_type": "code",
      "source": [
        "pop = df['Age'].dropna()"
      ],
      "metadata": {
        "id": "7WpFSsxYfZRH"
      },
      "execution_count": 4,
      "outputs": []
    },
    {
      "cell_type": "code",
      "source": [
        "sample_age = pop.sample(25).values"
      ],
      "metadata": {
        "id": "LWiqxLuUfrPM"
      },
      "execution_count": 5,
      "outputs": []
    },
    {
      "cell_type": "code",
      "source": [
        "sample_age"
      ],
      "metadata": {
        "colab": {
          "base_uri": "https://localhost:8080/"
        },
        "id": "dB_M8Oruf3cV",
        "outputId": "cfd0c1c2-dfe8-4aa0-8ac8-77e73cec76de"
      },
      "execution_count": 6,
      "outputs": [
        {
          "output_type": "execute_result",
          "data": {
            "text/plain": [
              "array([30. , 30. , 35. , 26. , 28.5, 24. , 18. , 22. , 24. , 50. , 59. ,\n",
              "       27. , 22. , 49. , 25. , 60. ,  3. , 34. , 24. , 17. , 35. , 28. ,\n",
              "       31. , 19. , 27. ])"
            ]
          },
          "metadata": {},
          "execution_count": 6
        }
      ]
    },
    {
      "cell_type": "code",
      "source": [
        "# null_hypothesis = mean_age is 35\n",
        "# alternate hypothesis = mean_age less than 35"
      ],
      "metadata": {
        "id": "mozK9rNGf8zt"
      },
      "execution_count": 7,
      "outputs": []
    },
    {
      "cell_type": "code",
      "source": [
        "from scipy.stats import shapiro\n",
        "shapiro_age = shapiro(sample_age)\n",
        "print(shapiro_age)"
      ],
      "metadata": {
        "colab": {
          "base_uri": "https://localhost:8080/"
        },
        "id": "ldOilkC5gZZX",
        "outputId": "349a996c-5107-4d66-f538-9d4800141f41"
      },
      "execution_count": 8,
      "outputs": [
        {
          "output_type": "stream",
          "name": "stdout",
          "text": [
            "ShapiroResult(statistic=0.8971555233001709, pvalue=0.015916340053081512)\n"
          ]
        }
      ]
    },
    {
      "cell_type": "code",
      "source": [
        "pop_mean = 35"
      ],
      "metadata": {
        "id": "MwirKkKahYPg"
      },
      "execution_count": 9,
      "outputs": []
    },
    {
      "cell_type": "code",
      "source": [
        "import scipy.stats as stats\n",
        "\n",
        "t_statistics, p_value = stats.ttest_1samp(sample_age,pop_mean)\n",
        "\n",
        "print('t_statistics : ',t_statistics)\n",
        "print('p_value : ',p_value/2)\n"
      ],
      "metadata": {
        "colab": {
          "base_uri": "https://localhost:8080/"
        },
        "id": "iXjIFeplhfpZ",
        "outputId": "9709909a-4749-445c-db4b-25b110352100"
      },
      "execution_count": 12,
      "outputs": [
        {
          "output_type": "stream",
          "name": "stdout",
          "text": [
            "t_statistics :  -1.9671237881781531\n",
            "p_value :  0.030416154619304962\n"
          ]
        }
      ]
    },
    {
      "cell_type": "code",
      "source": [
        "alpha = 0.05\n",
        "if p_value < alpha:\n",
        "  print('Reject the Null Hypothesis')\n",
        "else:\n",
        "  print('Accept the Null Hypothesis')\n"
      ],
      "metadata": {
        "colab": {
          "base_uri": "https://localhost:8080/"
        },
        "id": "rwier_OficaY",
        "outputId": "ab57a216-40d4-455a-eefe-b7b69b7bc2b1"
      },
      "execution_count": 13,
      "outputs": [
        {
          "output_type": "stream",
          "name": "stdout",
          "text": [
            "Accept the Null Hypothesis\n"
          ]
        }
      ]
    },
    {
      "cell_type": "code",
      "source": [
        "pop.mean()"
      ],
      "metadata": {
        "colab": {
          "base_uri": "https://localhost:8080/"
        },
        "id": "u8ZhloLHjFt0",
        "outputId": "3d3d8c7a-586f-4f30-d8f4-4b082a9cc94c"
      },
      "execution_count": 14,
      "outputs": [
        {
          "output_type": "execute_result",
          "data": {
            "text/plain": [
              "29.881137667304014"
            ]
          },
          "metadata": {},
          "execution_count": 14
        }
      ]
    },
    {
      "cell_type": "code",
      "source": [],
      "metadata": {
        "id": "DQXp1AxwjXOW"
      },
      "execution_count": null,
      "outputs": []
    }
  ]
}