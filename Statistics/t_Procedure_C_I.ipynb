{
  "nbformat": 4,
  "nbformat_minor": 0,
  "metadata": {
    "colab": {
      "provenance": []
    },
    "kernelspec": {
      "name": "python3",
      "display_name": "Python 3"
    },
    "language_info": {
      "name": "python"
    }
  },
  "cells": [
    {
      "cell_type": "code",
      "execution_count": 20,
      "metadata": {
        "id": "COmdv0IthJuT"
      },
      "outputs": [],
      "source": [
        "import numpy as np\n",
        "import pandas as pd"
      ]
    },
    {
      "cell_type": "code",
      "source": [
        "train = pd.read_csv('/content/train.csv')\n",
        "test = pd.read_csv('/content/test.csv')"
      ],
      "metadata": {
        "id": "NitCi9ZAh2Vn"
      },
      "execution_count": 21,
      "outputs": []
    },
    {
      "cell_type": "code",
      "source": [
        "df = pd.concat([train.drop(columns=['Survived']),test]).sample(1309)"
      ],
      "metadata": {
        "id": "8ZX9IXTZh5v6"
      },
      "execution_count": 22,
      "outputs": []
    },
    {
      "cell_type": "code",
      "source": [
        "# check the population distribution\n",
        "df['Fare'].plot(kind='kde')"
      ],
      "metadata": {
        "colab": {
          "base_uri": "https://localhost:8080/",
          "height": 447
        },
        "id": "_F0cVMLdh-g9",
        "outputId": "433836ab-396d-438f-b13c-4544e134b614"
      },
      "execution_count": 23,
      "outputs": [
        {
          "output_type": "execute_result",
          "data": {
            "text/plain": [
              "<Axes: ylabel='Density'>"
            ]
          },
          "metadata": {},
          "execution_count": 23
        },
        {
          "output_type": "display_data",
          "data": {
            "text/plain": [
              "<Figure size 640x480 with 1 Axes>"
            ],
            "image/png": "[encoded data removed]"
          },
          "metadata": {}
        }
      ]
    },
    {
      "cell_type": "code",
      "source": [
        "# apply central limit theorem\n",
        "# collect 10 sample and that size is 30 in each sample\n",
        "# calculate the std\n",
        "sample=[]\n",
        "std=[]\n",
        "for i in range(10):\n",
        "  x=df['Fare'].dropna().sample(30).values\n",
        "  std.append(x.std())\n",
        "  sample.append(x.tolist())"
      ],
      "metadata": {
        "id": "HFNT1R_skE2T"
      },
      "execution_count": 24,
      "outputs": []
    },
    {
      "cell_type": "code",
      "source": [
        "sample=np.array(sample)"
      ],
      "metadata": {
        "id": "jZx_0nuQkiwN"
      },
      "execution_count": 25,
      "outputs": []
    },
    {
      "cell_type": "code",
      "source": [
        "# calculate the point estimate\n",
        "sampling_mean=sample.mean(axis=1)"
      ],
      "metadata": {
        "id": "AEaMeEyNkpXy"
      },
      "execution_count": 26,
      "outputs": []
    },
    {
      "cell_type": "code",
      "source": [
        "# calculate the sample standard deviation\n",
        "sample_std=np.mean(std)"
      ],
      "metadata": {
        "id": "-c7wLoLHljAX"
      },
      "execution_count": 27,
      "outputs": []
    },
    {
      "cell_type": "code",
      "source": [
        "# calculate the confidence level at 95% is 2.042\n",
        "lower_limit=sampling_mean.mean()-2.042*(sample_std/np.sqrt(30))\n",
        "upper_limit=sampling_mean.mean()+2.042*(sample_std/np.sqrt(30))"
      ],
      "metadata": {
        "id": "IAWufJcDlqeo"
      },
      "execution_count": 28,
      "outputs": []
    },
    {
      "cell_type": "code",
      "source": [
        "print('The range is ',lower_limit,'-',upper_limit)"
      ],
      "metadata": {
        "colab": {
          "base_uri": "https://localhost:8080/"
        },
        "id": "iqx4IQ5kmXXN",
        "outputId": "82b1f7d6-0ade-4eb1-99c5-693523681a35"
      },
      "execution_count": 29,
      "outputs": [
        {
          "output_type": "stream",
          "name": "stdout",
          "text": [
            "The range is  14.89136776001643 - 40.5280235733169\n"
          ]
        }
      ]
    },
    {
      "cell_type": "code",
      "source": [
        "df['Fare'].mean()"
      ],
      "metadata": {
        "colab": {
          "base_uri": "https://localhost:8080/"
        },
        "id": "OJPQnbp2mjSs",
        "outputId": "68bbf814-50df-4cb6-de7e-5da82d905e93"
      },
      "execution_count": 30,
      "outputs": [
        {
          "output_type": "execute_result",
          "data": {
            "text/plain": [
              "33.29547928134557"
            ]
          },
          "metadata": {},
          "execution_count": 30
        }
      ]
    },
    {
      "cell_type": "code",
      "source": [],
      "metadata": {
        "id": "4t716CcMpXwg"
      },
      "execution_count": null,
      "outputs": []
    }
  ]
}