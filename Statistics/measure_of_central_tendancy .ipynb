{
  "cells": [
    {
      "cell_type": "code",
      "execution_count": 72,
      "metadata": {
        "id": "yCjKG_ZPcjor"
      },
      "outputs": [],
      "source": [
        "import numpy as np\n",
        "import pandas as pd\n",
        "import statistics as stat\n",
        "data=[10,20,30,30,40,40,40,40,50,60,70,80,90]"
      ]
    },
    {
      "cell_type": "code",
      "execution_count": 73,
      "metadata": {
        "colab": {
          "base_uri": "https://localhost:8080/"
        },
        "id": "mrU3Os1Hc2AW",
        "outputId": "61c8d6f5-1bbe-4284-d281-46090ad84925"
      },
      "outputs": [
        {
          "name": "stdout",
          "output_type": "stream",
          "text": [
            "Data mean is =  46.15384615384615\n"
          ]
        }
      ],
      "source": [
        "# mean\n",
        "a = np.mean(data)\n",
        "print('Data mean is = ',a)"
      ]
    },
    {
      "cell_type": "code",
      "execution_count": 74,
      "metadata": {
        "colab": {
          "base_uri": "https://localhost:8080/"
        },
        "id": "mSSdtj_9d4tM",
        "outputId": "b366f9dc-5d62-4cca-8694-bf0e01415a54"
      },
      "outputs": [
        {
          "data": {
            "text/plain": [
              "46.15384615384615"
            ]
          },
          "execution_count": 74,
          "metadata": {},
          "output_type": "execute_result"
        }
      ],
      "source": [
        "stat.mean(data)"
      ]
    },
    {
      "cell_type": "code",
      "execution_count": 75,
      "metadata": {
        "colab": {
          "base_uri": "https://localhost:8080/"
        },
        "id": "OOy3zx6CeL6x",
        "outputId": "bc21602b-8b5c-41d7-b6ec-1aeba5127ff8"
      },
      "outputs": [
        {
          "name": "stdout",
          "output_type": "stream",
          "text": [
            "Data median is =  40.0\n"
          ]
        }
      ],
      "source": [
        "# median\n",
        "data=[10,20,30,30,40,40,40,40,50,60,70,80,90]\n",
        "b = np.median(data)\n",
        "print('Data median is = ',b)"
      ]
    },
    {
      "cell_type": "code",
      "execution_count": 76,
      "metadata": {
        "colab": {
          "base_uri": "https://localhost:8080/"
        },
        "id": "rk_3wSjIeU4E",
        "outputId": "ef43277d-c13c-4d12-8d08-1b93cadfb98c"
      },
      "outputs": [
        {
          "data": {
            "text/plain": [
              "40"
            ]
          },
          "execution_count": 76,
          "metadata": {},
          "output_type": "execute_result"
        }
      ],
      "source": [
        "stat.median(data)"
      ]
    },
    {
      "cell_type": "code",
      "execution_count": 77,
      "metadata": {
        "colab": {
          "base_uri": "https://localhost:8080/"
        },
        "id": "Ohe3KLxgeklT",
        "outputId": "65fbe016-a1f9-44ce-ef0f-9a1c17d6139a"
      },
      "outputs": [
        {
          "data": {
            "text/plain": [
              "40"
            ]
          },
          "execution_count": 77,
          "metadata": {},
          "output_type": "execute_result"
        }
      ],
      "source": [
        "# mode\n",
        "data=[10,20,30,30,40,40,40,40,50,60,70,80,90]\n",
        "stat.mode(data)"
      ]
    },
    {
      "cell_type": "code",
      "execution_count": 78,
      "metadata": {
        "id": "HVd5R3gqewQQ"
      },
      "outputs": [],
      "source": [
        "data=[10,20,30,30,40,40,40,40,50,60,70,80,90]\n",
        "def data_mean(l):\n",
        "  try:\n",
        "    p=0\n",
        "    for i in l:\n",
        "      p=p+i\n",
        "\n",
        "    return p/len(l)\n",
        "  except Exception as e:\n",
        "    print(e)\n",
        "    print('Please give numbers in List')"
      ]
    },
    {
      "cell_type": "code",
      "execution_count": 79,
      "metadata": {
        "colab": {
          "base_uri": "https://localhost:8080/"
        },
        "id": "RfVQb2pHhQvK",
        "outputId": "cb851c88-3cae-4a48-b7e9-cb357171da2b"
      },
      "outputs": [
        {
          "data": {
            "text/plain": [
              "46.15384615384615"
            ]
          },
          "execution_count": 79,
          "metadata": {},
          "output_type": "execute_result"
        }
      ],
      "source": [
        "data_mean(data)"
      ]
    },
    {
      "cell_type": "code",
      "execution_count": 80,
      "metadata": {
        "colab": {
          "base_uri": "https://localhost:8080/"
        },
        "id": "rF1bTaQgnG87",
        "outputId": "518c1d46-9d17-43c8-d4fa-e6e9c7a5c7de"
      },
      "outputs": [
        {
          "name": "stdout",
          "output_type": "stream",
          "text": [
            "'int' object is not iterable\n",
            "Please give numbers in List\n"
          ]
        }
      ],
      "source": [
        "data_mean(100)"
      ]
    },
    {
      "cell_type": "code",
      "execution_count": 81,
      "metadata": {
        "id": "RSM_mUj0hXYu"
      },
      "outputs": [],
      "source": [
        "data=[10,20,30,30,40,40,40,40,50,60,70,80,90]\n",
        "def data_median(l):\n",
        "  try:\n",
        "    l.sort()\n",
        "    if len(l) % 2 == 0:\n",
        "      median_1 = l[len(l) // 2]\n",
        "      median_2 = l[(len(l) // 2)-1]\n",
        "      median = (median_1 + median_2)/2\n",
        "    else:\n",
        "      median = l[len(l) // 2]\n",
        "\n",
        "    print('Median is : ',median)\n",
        "\n",
        "  except Exception as e:\n",
        "    print(e)\n",
        "    print('Please give numbers in List')"
      ]
    },
    {
      "cell_type": "code",
      "execution_count": 82,
      "metadata": {
        "colab": {
          "base_uri": "https://localhost:8080/"
        },
        "id": "04VWahcVjQdm",
        "outputId": "0b5a5c54-d37a-48e2-cc4b-3b9150e01730"
      },
      "outputs": [
        {
          "name": "stdout",
          "output_type": "stream",
          "text": [
            "Median is :  40\n"
          ]
        }
      ],
      "source": [
        "data_median(data)"
      ]
    },
    {
      "cell_type": "code",
      "execution_count": 83,
      "metadata": {
        "colab": {
          "base_uri": "https://localhost:8080/"
        },
        "id": "m7V5HTRWlixf",
        "outputId": "8310a46b-de6b-4603-8b03-aef459e1ab84"
      },
      "outputs": [
        {
          "name": "stdout",
          "output_type": "stream",
          "text": [
            "'int' object has no attribute 'sort'\n",
            "Please give numbers in List\n"
          ]
        }
      ],
      "source": [
        "data_median(100)"
      ]
    },
    {
      "cell_type": "code",
      "execution_count": 84,
      "metadata": {
        "id": "HQrYfm3AnPg_"
      },
      "outputs": [],
      "source": [
        "data=[10,20,30,30,40,40,40,40,50,60,70,80,90]\n",
        "def data_mode(l):\n",
        "  try:\n",
        "    from collections import Counter\n",
        "    n = len(l)\n",
        "    df = Counter(l)\n",
        "    get_mode = dict(df)\n",
        "    mode = [key for key,value in get_mode.items() if value == max(list(df.values()))]\n",
        "\n",
        "    if len(mode) == n:\n",
        "      get_mode = 'No mode found'\n",
        "    else:\n",
        "      get_mode = \"Mode is : \" + ' '.join(map(str, mode))\n",
        "\n",
        "    print(get_mode)\n",
        "\n",
        "  except Exception as e:\n",
        "    print(e)\n",
        "    print('Please give numbers in List')"
      ]
    },
    {
      "cell_type": "code",
      "execution_count": 1,
      "metadata": {},
      "outputs": [
        {
          "data": {
            "text/plain": [
              "Counter({10: 1, 20: 1, 30: 2, 40: 4, 50: 1, 60: 1, 70: 1, 80: 1, 90: 1})"
            ]
          },
          "execution_count": 1,
          "metadata": {},
          "output_type": "execute_result"
        }
      ],
      "source": [
        "data=[10,20,30,30,40,40,40,40,50,60,70,80,90]\n",
        "from collections import Counter\n",
        "Counter(data)"
      ]
    },
    {
      "cell_type": "code",
      "execution_count": 85,
      "metadata": {
        "colab": {
          "base_uri": "https://localhost:8080/"
        },
        "id": "7SkWFLxRpTJI",
        "outputId": "0db8eca5-32ee-4086-8d6f-702cbd50994f"
      },
      "outputs": [
        {
          "name": "stdout",
          "output_type": "stream",
          "text": [
            "Mode is : 40\n"
          ]
        }
      ],
      "source": [
        "data_mode(data)"
      ]
    },
    {
      "cell_type": "code",
      "execution_count": 86,
      "metadata": {
        "colab": {
          "base_uri": "https://localhost:8080/"
        },
        "id": "npS-fVLmpi71",
        "outputId": "7e82ed7f-128e-4dda-a522-d53d0cfbe62d"
      },
      "outputs": [
        {
          "name": "stdout",
          "output_type": "stream",
          "text": [
            "Mode is : 20\n"
          ]
        }
      ],
      "source": [
        "data_mode([100,100,20,20,20,40])"
      ]
    },
    {
      "cell_type": "code",
      "execution_count": 87,
      "metadata": {
        "colab": {
          "base_uri": "https://localhost:8080/"
        },
        "id": "QZ1UP2zYsazA",
        "outputId": "f8cc2a5f-e6c5-460f-a4fb-455be641a462"
      },
      "outputs": [
        {
          "name": "stdout",
          "output_type": "stream",
          "text": [
            "object of type 'int' has no len()\n",
            "Please give numbers in List\n"
          ]
        }
      ],
      "source": [
        "data_mode(100)"
      ]
    },
    {
      "cell_type": "code",
      "execution_count": 88,
      "metadata": {
        "id": "N7vAlq7gskv2"
      },
      "outputs": [],
      "source": [
        "\n",
        "def data_weighted(df,value,weight):\n",
        "  try:\n",
        "    value = df[value]\n",
        "    weight = df[weight]\n",
        "    return (value * weight).sum()/weight.sum()\n",
        "  except Exception as e:\n",
        "    print(e)"
      ]
    },
    {
      "cell_type": "code",
      "execution_count": 89,
      "metadata": {
        "colab": {
          "base_uri": "https://localhost:8080/"
        },
        "id": "btMXAl2stFcg",
        "outputId": "ac2f784d-cbeb-40a7-fe93-897449b14fdd"
      },
      "outputs": [
        {
          "data": {
            "text/plain": [
              "student_name\n",
              "Homesh    82.333333\n",
              "Ramesh    88.894737\n",
              "Suresh    91.692308\n",
              "dtype: float64"
            ]
          },
          "execution_count": 89,
          "metadata": {},
          "output_type": "execute_result"
        }
      ],
      "source": [
        "df = pd.DataFrame({'student_name': ['Suresh', 'Suresh',\n",
        "                                        'Suresh', 'Ramesh',\n",
        "                                        'Ramesh', 'Ramesh',\n",
        "                                        'Homesh', 'Homesh',\n",
        "                                        'Homesh'],\n",
        "                          'marks': [90, 95, 86, 87, 87, 91,\n",
        "                                    66, 75, 89],\n",
        "                          'weight': [5, 6, 2, 7, 3, 9, 2, 1,\n",
        "                                     6]})\n",
        "\n",
        "df.groupby('student_name').apply(data_weighted,'marks','weight')"
      ]
    },
    {
      "cell_type": "code",
      "execution_count": null,
      "metadata": {
        "id": "bzF33FQewEPT"
      },
      "outputs": [],
      "source": []
    }
  ],
  "metadata": {
    "colab": {
      "provenance": []
    },
    "kernelspec": {
      "display_name": "Python 3",
      "name": "python3"
    },
    "language_info": {
      "codemirror_mode": {
        "name": "ipython",
        "version": 3
      },
      "file_extension": ".py",
      "mimetype": "text/x-python",
      "name": "python",
      "nbconvert_exporter": "python",
      "pygments_lexer": "ipython3",
      "version": "3.10.9"
    }
  },
  "nbformat": 4,
  "nbformat_minor": 0
}
